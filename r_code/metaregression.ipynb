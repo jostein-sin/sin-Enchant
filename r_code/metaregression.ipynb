{
 "cells": [
  {
   "cell_type": "markdown",
   "id": "8848e4fc",
   "metadata": {},
   "source": [
    "# Meta-Regression {#metareg}"
   ]
  },
  {
   "cell_type": "code",
   "execution_count": 1,
   "id": "ec3d178e",
   "metadata": {
    "fig.align": "center",
    "fig.cap": "Visualisation of a Meta-Regression with dummy-coded categorial predictors",
    "fig.width": 6,
    "tags": [
     "remove_input"
    ]
   },
   "outputs": [
    {
     "name": "stderr",
     "output_type": "stream",
     "text": [
      "Loading required package: ggplot2\n",
      "\n",
      "Loading required package: metafor\n",
      "\n",
      "Loading required package: Matrix\n",
      "\n",
      "\n",
      "Loading the 'metafor' package (version 3.0-2). For an\n",
      "introduction to the package please type: help(metafor)\n",
      "\n",
      "\n",
      "Loading required package: ranger\n",
      "\n",
      "Loading required package: data.table\n",
      "\n"
     ]
    }
   ],
   "source": [
    "library(metaforest)"
   ]
  },
  {
   "cell_type": "code",
   "execution_count": 2,
   "id": "c3be5cff-625c-42b8-995a-6aed5b5ef184",
   "metadata": {},
   "outputs": [
    {
     "name": "stderr",
     "output_type": "stream",
     "text": [
      "XLConnect 1.0.5 by Mirai Solutions GmbH [aut],\n",
      "  Martin Studer [cre],\n",
      "  The Apache Software Foundation [ctb, cph] (Apache POI),\n",
      "  Graph Builder [ctb, cph] (Curvesapi Java library),\n",
      "  Brett Woolridge [ctb, cph] (SparseBitSet Java library)\n",
      "\n",
      "https://mirai-solutions.ch\n",
      "https://github.com/miraisolutions/xlconnect\n",
      "\n"
     ]
    }
   ],
   "source": [
    "library(XLConnect)\n",
    "df_attitude <- readWorksheetFromFile(\"/media/windowsC/SIN_Desktop/projects/2021/ENCHANT/datasets/ECHOES/WP4/ma_psycho_pred_esb.xls\", sheet = 1)\n",
    "df_intention <- readWorksheetFromFile(\"/media/windowsC/SIN_Desktop/projects/2021/ENCHANT/datasets/ECHOES/WP4/ma_psycho_pred_esb.xls\", sheet = 2)\n",
    "df_values <- readWorksheetFromFile(\"/media/windowsC/SIN_Desktop/projects/2021/ENCHANT/datasets/ECHOES/WP4/ma_psycho_pred_esb.xls\", sheet = 3)\n",
    "df_awareness <- readWorksheetFromFile(\"/media/windowsC/SIN_Desktop/projects/2021/ENCHANT/datasets/ECHOES/WP4/ma_psycho_pred_esb.xls\", sheet = 4)\n",
    "df_emotions <- readWorksheetFromFile(\"/media/windowsC/SIN_Desktop/projects/2021/ENCHANT/datasets/ECHOES/WP4/ma_psycho_pred_esb.xls\", sheet = 5)"
   ]
  },
  {
   "cell_type": "code",
   "execution_count": 3,
   "id": "39485284-8fa0-4a3a-9beb-2455abc242c4",
   "metadata": {},
   "outputs": [
    {
     "name": "stdout",
     "output_type": "stream",
     "text": [
      "[1] \"References\" \"n\"          \"r\"          \"llci\"       \"ulci\"      \n",
      "[1] \"References\" \"n\"          \"r\"          \"llci\"       \"ulci\"      \n",
      "[1] \"References\" \"n\"          \"r\"          \"llci\"       \"ulci\"      \n",
      "[1] \"References\" \"n\"          \"r\"          \"llci\"       \"ulci\"      \n",
      "[1] \"References\" \"n\"          \"r\"          \"llci\"       \"ulci\"      \n"
     ]
    }
   ],
   "source": [
    "print(names(df_attitude))\n",
    "print(names(df_intention))\n",
    "print(names(df_values))\n",
    "print(names(df_awareness))\n",
    "print(names(df_emotions))"
   ]
  },
  {
   "cell_type": "markdown",
   "id": "b5dbc2d7",
   "metadata": {},
   "source": [
    "<br><br>\n",
    "\n",
    "---\n",
    "\n",
    "## Meta-regression in R"
   ]
  },
  {
   "cell_type": "markdown",
   "id": "24a13872",
   "metadata": {},
   "source": [
    "<br><br>"
   ]
  },
  {
   "cell_type": "code",
   "execution_count": 4,
   "id": "3dd8f542",
   "metadata": {
    "tags": [
     "remove_input"
    ]
   },
   "outputs": [],
   "source": [
    "# Create function r_to_z, which takes r as input:\n",
    "# Correlations are bounded by [-1, 1], they are often Fisher-transformed prior to meta-analysis\n",
    "r_to_z <- function(r){.5 * log((1+r)/(1-r))}\n",
    "v_z <- function(n){1/(n-3)}"
   ]
  },
  {
   "cell_type": "code",
   "execution_count": 5,
   "id": "cc49f2f5-f468-4f36-8c7b-afdfedba085b",
   "metadata": {},
   "outputs": [],
   "source": [
    "df_attitude$zi <- r_to_z(df_attitude$r)\n",
    "df_attitude$vi <- v_z(df_attitude$n)\n",
    "\n",
    "df_intention$zi <- r_to_z(df_intention$r)\n",
    "df_intention$vi <- v_z(df_intention$n)\n",
    "\n",
    "df_values$zi <- r_to_z(df_values$r)\n",
    "df_values$vi <- v_z(df_values$n)\n",
    "\n",
    "df_awareness$zi <- r_to_z(df_awareness$r)\n",
    "df_awareness$vi <- v_z(df_awareness$n)\n",
    "\n",
    "df_emotions$zi <- r_to_z(df_emotions$r)\n",
    "df_emotions$vi <- v_z(df_emotions$n)"
   ]
  },
  {
   "cell_type": "markdown",
   "id": "de1f52ac",
   "metadata": {},
   "source": [
    "<br><br>\n",
    "\n",
    "---"
   ]
  },
  {
   "cell_type": "markdown",
   "id": "0df59365",
   "metadata": {},
   "source": [
    "## Plotting regressions"
   ]
  },
  {
   "cell_type": "code",
   "execution_count": 6,
   "id": "aa61d41f",
   "metadata": {},
   "outputs": [],
   "source": [
    "library(ggplot2)"
   ]
  },
  {
   "cell_type": "markdown",
   "id": "69fb544c",
   "metadata": {},
   "source": [
    "<br></br>"
   ]
  },
  {
   "cell_type": "markdown",
   "id": "8e0162a8",
   "metadata": {},
   "source": [
    "---"
   ]
  },
  {
   "cell_type": "code",
   "execution_count": 7,
   "id": "dabdf8f7-e883-4d56-b4d8-f25f615d3a3a",
   "metadata": {},
   "outputs": [],
   "source": [
    "library(repr)\n",
    "# Change plot size to 4 x 3\n",
    "options(repr.plot.width=12, repr.plot.height=9)"
   ]
  },
  {
   "cell_type": "code",
   "execution_count": 8,
   "id": "b261fe73-91d5-4bf7-96b6-2e772b0cef6c",
   "metadata": {},
   "outputs": [
    {
     "name": "stderr",
     "output_type": "stream",
     "text": [
      "Warning message:\n",
      "“There are outcomes with non-positive sampling variances.”\n",
      "Warning message:\n",
      "“Negative sampling variances constrained to zero.”\n",
      "Warning message:\n",
      "“Cannot compute Q-test, I^2, or H^2 when there are non-positive sampling variances in the data.”\n",
      "Warning message:\n",
      "“There are outcomes with non-positive sampling variances.”\n",
      "Warning message:\n",
      "“Negative sampling variances constrained to zero.”\n",
      "Warning message:\n",
      "“Cannot compute QE-test, I^2, or H^2 when there are non-positive sampling variances in the data.”\n",
      "Warning message in sqrt(df$vi):\n",
      "“NaNs produced”\n",
      "Warning message:\n",
      "“Removed 1 rows containing missing values (geom_point).”\n"
     ]
    },
    {
     "data": {
      "text/html": [
       "<strong>png:</strong> 2"
      ],
      "text/latex": [
       "\\textbf{png:} 2"
      ],
      "text/markdown": [
       "**png:** 2"
      ],
      "text/plain": [
       "png \n",
       "  2 "
      ]
     },
     "metadata": {},
     "output_type": "display_data"
    }
   ],
   "source": [
    "list_names_df <- list('attitude'=df_attitude, \n",
    "                'intention'=df_intention, \n",
    "                'values'=df_values, \n",
    "                'awareness'=df_awareness, \n",
    "                'emotions'=df_emotions)\n",
    "fname <- sprintf(\"output/funnel.pdf\")\n",
    "#print(fname)\n",
    "pdf(file=fname) # Open PDF device with specific file name\n",
    "    \n",
    "for (i in seq_along(list_names_df)){\n",
    "    name <- names(list_names_df)[i]\n",
    "    df <- list_names_df[[i]]\n",
    "    \n",
    "    m_re <- rma(yi = zi,\n",
    "            vi = vi,\n",
    "            data = df) # for publication bias funnel plot\n",
    "    #print(names(m_re))\n",
    "    #print(m_re)\n",
    "    #print(m_re$beta[1])\n",
    "\n",
    "    m_reg <- rma(yi = zi,\n",
    "             vi = vi,\n",
    "             mods = ~n,\n",
    "             data = df) # for meta regression\n",
    "    #print(m_reg)\n",
    "\n",
    "    df$weights <- 1/sqrt(df$vi)\n",
    "    # Specify basic plot, mapping sex to the x-axis, effect size 'd' to the y-axis,\n",
    "    # and 'weights' to the weight parameter.\n",
    "    \n",
    "    PLOT_REG = TRUE #FALSE\n",
    "    \n",
    "    if (PLOT_REG) {\n",
    "    reg_plot <- ggplot(df, aes(x = n, y = zi, size = weights)) +\n",
    "      geom_point(shape = 1) + # Add scatter\n",
    "      geom_abline(intercept = m_reg$b[1], slope = m_reg$b[2]) + # Add regression line\n",
    "      theme_bw() + # Apply black and white theme\n",
    "      theme(legend.position = \"none\") # Remove legend\n",
    "      print(reg_plot)\n",
    "    }\n",
    "    funnel(m_re, level=c(90, 95, 99), shade=c(\"white\", \"gray55\", \"gray75\"), refline=m_re$beta[1], \n",
    "           yaxis=\"sei\", main=name)\n",
    "    \n",
    "}\n",
    "dev.off() # Turn the PDF device off"
   ]
  },
  {
   "cell_type": "code",
   "execution_count": null,
   "id": "a0ac1e66-9d5e-44af-ba8a-bc5b15c0eb67",
   "metadata": {},
   "outputs": [],
   "source": []
  }
 ],
 "metadata": {
  "jupytext": {
   "cell_metadata_filter": "eval,language,fig.width,fig.align,fig.cap,type,tags,-all",
   "main_language": "R",
   "notebook_metadata_filter": "-all"
  },
  "kernelspec": {
   "display_name": "R",
   "language": "R",
   "name": "ir"
  },
  "language_info": {
   "codemirror_mode": "r",
   "file_extension": ".r",
   "mimetype": "text/x-r-source",
   "name": "R",
   "pygments_lexer": "r",
   "version": "4.0.5"
  }
 },
 "nbformat": 4,
 "nbformat_minor": 5
}

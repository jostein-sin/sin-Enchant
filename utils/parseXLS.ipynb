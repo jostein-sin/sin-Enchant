{
 "cells": [
  {
   "cell_type": "code",
   "execution_count": 1,
   "id": "c1a2b388-3fc1-4584-90a8-e51b018621fd",
   "metadata": {},
   "outputs": [],
   "source": [
    "import pandas as pd\n",
    "import os\n",
    "import pyreadr\n",
    "import numpy as np\n",
    "import pdb"
   ]
  },
  {
   "cell_type": "markdown",
   "id": "352d4fc5-8110-458c-a44d-e7381f861982",
   "metadata": {},
   "source": [
    "# Pickup all excel sheets"
   ]
  },
  {
   "cell_type": "code",
   "execution_count": 2,
   "id": "5d0e2be2-1e4b-4055-a3a1-b5dbfedaf33a",
   "metadata": {},
   "outputs": [
    {
     "name": "stdout",
     "output_type": "stream",
     "text": [
      "['/media/windowsC/SIN_Desktop/ENCHANT/ECHOES/data/Energy company survey/ECHOES_raw_data_survey_energy_provider.xls', '/media/windowsC/SIN_Desktop/ENCHANT/ECHOES/data/International survey/ECHOES_Main_survey_codebook.xlsx', '/media/windowsC/SIN_Desktop/ENCHANT/ECHOES/data/International survey/ECHOES_raw_data_int_survey.xlsx', '/media/windowsC/SIN_Desktop/ENCHANT/ECHOES/data/Psychological experiment Spain/ECHOES_raw_data_psych_experiment_Spain.xlsx', '/media/windowsC/SIN_Desktop/ENCHANT/ECHOES/data/Standardized psychological experiments/ECHOES_raw_data_psych_experiments_Germany 1.xlsx', '/media/windowsC/SIN_Desktop/ENCHANT/ECHOES/data/Standardized psychological experiments/ECHOES_raw_data_psych_experiments_Bulgaria.xlsx', '/media/windowsC/SIN_Desktop/ENCHANT/ECHOES/data/Standardized psychological experiments/ECHOES_raw_data_psych_experiments_Finland.xlsx', '/media/windowsC/SIN_Desktop/ENCHANT/ECHOES/data/Standardized psychological experiments/ECHOES_raw_data_psych_experiments_Germany 2.xlsx', '/media/windowsC/SIN_Desktop/ENCHANT/ECHOES/data/Standardized psychological experiments/ECHOES_raw_data_psych_experiments_Italy.xlsx', '/media/windowsC/SIN_Desktop/ENCHANT/ECHOES/data/Standardized psychological experiments/ECHOES_raw_data_psych_experiments_Norway.xlsx', '/media/windowsC/SIN_Desktop/ENCHANT/ECHOES/data/Standardized psychological experiments/ECHOES_raw_data_psych_experiments_Turkey.xlsx', '/media/windowsC/SIN_Desktop/ENCHANT/ECHOES/data/Standardized psychological experiments/WP4 experiments_variable codes_labels.xlsx']\n",
      "12\n"
     ]
    }
   ],
   "source": [
    "LOAD_R = False\n",
    "\n",
    "data_files = []\n",
    "for _dir in os.listdir(r\"/media/windowsC/SIN_Desktop/ENCHANT/ECHOES/data\"):\n",
    "    for filename in os.listdir(os.path.join(\"/media/windowsC/SIN_Desktop/ENCHANT/ECHOES/data\", _dir)):\n",
    "        if LOAD_R: # scan for .rdata/.rda\n",
    "            if filename.endswith(\".rda\") or filename.endswith(\".rdata\"): \n",
    "             data_files.append(os.path.join(\"/media/windowsC/SIN_Desktop/ENCHANT/ECHOES/data\", _dir, filename))\n",
    "            else:\n",
    "                continue\n",
    "        else: # scan for .xls/.xlsx\n",
    "            if filename.endswith(\".xls\") or filename.endswith(\".xlsx\"): \n",
    "                 data_files.append(os.path.join(\"/media/windowsC/SIN_Desktop/ENCHANT/ECHOES/data\", _dir, filename))\n",
    "            else:\n",
    "                continue\n",
    "\n",
    "print(data_files)\n",
    "print(len(data_files))"
   ]
  },
  {
   "cell_type": "markdown",
   "id": "69958e95-197b-41e1-9c7f-8f55e4506a49",
   "metadata": {},
   "source": [
    "# Sanity checks and iterate over individual sheet"
   ]
  },
  {
   "cell_type": "code",
   "execution_count": null,
   "id": "702ff361-7755-46be-8210-571c35417713",
   "metadata": {},
   "outputs": [
    {
     "name": "stdout",
     "output_type": "stream",
     "text": [
      "/media/windowsC/SIN_Desktop/ENCHANT/ECHOES/data/Energy company survey/ECHOES_raw_data_survey_energy_provider.xls\n",
      "<class 'pandas.core.frame.DataFrame'>\n",
      "(181, 94)\n",
      "[[  5   1]\n",
      " [  5   2]\n",
      " [  5   3]\n",
      " ...\n",
      " [178  91]\n",
      " [178  92]\n",
      " [178  93]]\n",
      "> \u001b[0;32m/tmp/ipykernel_5594/2610451481.py\u001b[0m(50)\u001b[0;36m<module>\u001b[0;34m()\u001b[0m\n",
      "\u001b[0;32m     47 \u001b[0;31m    \u001b[0mprint\u001b[0m\u001b[0;34m(\u001b[0m\u001b[0midx\u001b[0m\u001b[0;34m)\u001b[0m\u001b[0;34m\u001b[0m\u001b[0;34m\u001b[0m\u001b[0m\n",
      "\u001b[0m\u001b[0;32m     48 \u001b[0;31m    \u001b[0mpdb\u001b[0m\u001b[0;34m.\u001b[0m\u001b[0mset_trace\u001b[0m\u001b[0;34m(\u001b[0m\u001b[0;34m)\u001b[0m\u001b[0;34m\u001b[0m\u001b[0;34m\u001b[0m\u001b[0m\n",
      "\u001b[0m\u001b[0;32m     49 \u001b[0;31m\u001b[0;34m\u001b[0m\u001b[0m\n",
      "\u001b[0m\u001b[0;32m---> 50 \u001b[0;31m    \u001b[0msheet\u001b[0m\u001b[0;34m.\u001b[0m\u001b[0mdropna\u001b[0m\u001b[0;34m(\u001b[0m\u001b[0maxis\u001b[0m\u001b[0;34m=\u001b[0m\u001b[0;36m0\u001b[0m\u001b[0;34m,\u001b[0m \u001b[0mhow\u001b[0m\u001b[0;34m=\u001b[0m\u001b[0;34m'any'\u001b[0m\u001b[0;34m,\u001b[0m \u001b[0mthresh\u001b[0m\u001b[0;34m=\u001b[0m\u001b[0;32mNone\u001b[0m\u001b[0;34m,\u001b[0m \u001b[0msubset\u001b[0m\u001b[0;34m=\u001b[0m\u001b[0;32mNone\u001b[0m\u001b[0;34m,\u001b[0m \u001b[0minplace\u001b[0m\u001b[0;34m=\u001b[0m\u001b[0;32mTrue\u001b[0m\u001b[0;34m)\u001b[0m\u001b[0;34m\u001b[0m\u001b[0;34m\u001b[0m\u001b[0m\n",
      "\u001b[0m\u001b[0;32m     51 \u001b[0;31m    \u001b[0mprint\u001b[0m\u001b[0;34m(\u001b[0m\u001b[0msheet\u001b[0m\u001b[0;34m.\u001b[0m\u001b[0mshape\u001b[0m\u001b[0;34m)\u001b[0m\u001b[0;34m\u001b[0m\u001b[0;34m\u001b[0m\u001b[0m\n",
      "\u001b[0m\n"
     ]
    },
    {
     "name": "stdin",
     "output_type": "stream",
     "text": [
      "ipdb>  sheet/iloc[5,:]\n"
     ]
    },
    {
     "name": "stdout",
     "output_type": "stream",
     "text": [
      "*** NameError: name 'iloc' is not defined\n"
     ]
    },
    {
     "name": "stdin",
     "output_type": "stream",
     "text": [
      "ipdb>  sheet.iloc[5,:]\n"
     ]
    },
    {
     "name": "stdout",
     "output_type": "stream",
     "text": [
      "id                                                                           12\n",
      "I often think about the fact that I am a member of this company             NaN\n",
      "Being a member of this company is an important part of my identity.         NaN\n",
      "Being a member of this company is an important part of how I see myself.    NaN\n",
      "I feel a connection with other company's members.                           NaN\n",
      "                                                                           ... \n",
      "AGE                                                                         NaN\n",
      "EMPLOYEE                                                                    NaN\n",
      " Years of work                                                              NaN\n",
      "Civil Status                                                                NaN\n",
      "Level of Education                                                          NaN\n",
      "Name: 5, Length: 94, dtype: object\n"
     ]
    }
   ],
   "source": [
    "import subprocess\n",
    "\n",
    "if 0:\n",
    "    for _xls in data_files:\n",
    "        xls = pd.ExcelFile(_xls)\n",
    "        if len(xls.sheet_names) > 1:\n",
    "            print(f'{_xls}: Multiple ({len(xls.sheet_names)}) sheets present')\n",
    "        else:\n",
    "            print(f'{_xls}: Single sheet present')\n",
    "\n",
    "for _file in data_files:\n",
    "    try:\n",
    "        sheet = pd.read_excel(_file, sheet_name=0) #sheet = xls.parse(0) # Access the first sheet the other are codes and questionaire interpretations\n",
    "    except Exception as e:\n",
    "        print('Exception caught in xls')\n",
    "\n",
    "        _csv = '.'.join(_file.split('.')[:-1])+'.csv'\n",
    "        if os.path.exists(_csv+'.0'):\n",
    "            print('File exists: Skip xls to csv conversion')\n",
    "        else:\n",
    "            #pdb.set_trace()\n",
    "            # Try converting xls to csv through CLI\n",
    "            cmd = ['ssconvert', '-S', _file, _csv]\n",
    "            proc = subprocess.Popen(cmd, stdout=subprocess.PIPE, stderr=subprocess.PIPE)\n",
    "\n",
    "            o, e = proc.communicate()\n",
    "\n",
    "            #print('Output: ' + o.decode('ascii'))\n",
    "            #print('Error: '  + e.decode('ascii'))\n",
    "            #print('code: ' + str(proc.returncode))\n",
    "            #print(_csv)\n",
    "            #pdb.set_trace()\n",
    "        sheet = pd.read_csv(_csv+'.0')\n",
    "\n",
    "    print(_file)\n",
    "    print(type(sheet))\n",
    "    print(sheet.shape)\n",
    "\n",
    "    # Print out all the identifiers\n",
    "    #print(sheet.iloc[0, :])\n",
    "    if 0:\n",
    "        for col in sheet.columns:\n",
    "            print(col)\n",
    "    \n",
    "    idx = np.argwhere(pd.isnull(sheet).to_numpy()) #2D indices\n",
    "    print(idx)\n",
    "    pdb.set_trace()\n",
    "\n",
    "    sheet.dropna(axis=0, how='any', thresh=None, subset=None, inplace=True)\n",
    "    print(sheet.shape)"
   ]
  },
  {
   "cell_type": "code",
   "execution_count": null,
   "id": "fbf00630-9303-4682-9ce0-96497f05a459",
   "metadata": {},
   "outputs": [],
   "source": []
  }
 ],
 "metadata": {
  "kernelspec": {
   "display_name": "Python 3 (ipykernel)",
   "language": "python",
   "name": "python3"
  },
  "language_info": {
   "codemirror_mode": {
    "name": "ipython",
    "version": 3
   },
   "file_extension": ".py",
   "mimetype": "text/x-python",
   "name": "python",
   "nbconvert_exporter": "python",
   "pygments_lexer": "ipython3",
   "version": "3.7.11"
  }
 },
 "nbformat": 4,
 "nbformat_minor": 5
}

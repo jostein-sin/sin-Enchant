{
 "cells": [
  {
   "cell_type": "code",
   "execution_count": 1,
   "id": "c1a2b388-3fc1-4584-90a8-e51b018621fd",
   "metadata": {},
   "outputs": [],
   "source": [
    "import pandas as pd\n",
    "import os\n",
    "import yaml\n",
    "import pyreadr\n",
    "import numpy as np\n",
    "import pdb"
   ]
  },
  {
   "cell_type": "markdown",
   "id": "352d4fc5-8110-458c-a44d-e7381f861982",
   "metadata": {},
   "source": [
    "# Pickup all excel sheets"
   ]
  },
  {
   "cell_type": "code",
   "execution_count": 2,
   "id": "5d0e2be2-1e4b-4055-a3a1-b5dbfedaf33a",
   "metadata": {},
   "outputs": [
    {
     "name": "stdout",
     "output_type": "stream",
     "text": [
      "{'format': 'xls', 'data_dir': '/media/windowsC/SIN_Desktop/ENCHANT/ECHOES/data'}\n",
      "--Return--\n",
      "None\n",
      "> \u001b[0;32m/tmp/ipykernel_15706/3294574414.py\u001b[0m(4)\u001b[0;36m<module>\u001b[0;34m()\u001b[0m\n",
      "\u001b[0;32m      2 \u001b[0;31m    \u001b[0margs\u001b[0m \u001b[0;34m=\u001b[0m \u001b[0myaml\u001b[0m\u001b[0;34m.\u001b[0m\u001b[0msafe_load\u001b[0m\u001b[0;34m(\u001b[0m\u001b[0mf\u001b[0m\u001b[0;34m)\u001b[0m\u001b[0;34m\u001b[0m\u001b[0;34m\u001b[0m\u001b[0m\n",
      "\u001b[0m\u001b[0;32m      3 \u001b[0;31m\u001b[0mprint\u001b[0m\u001b[0;34m(\u001b[0m\u001b[0margs\u001b[0m\u001b[0;34m)\u001b[0m\u001b[0;34m\u001b[0m\u001b[0;34m\u001b[0m\u001b[0m\n",
      "\u001b[0m\u001b[0;32m----> 4 \u001b[0;31m\u001b[0mpdb\u001b[0m\u001b[0;34m.\u001b[0m\u001b[0mset_trace\u001b[0m\u001b[0;34m(\u001b[0m\u001b[0;34m)\u001b[0m\u001b[0;34m\u001b[0m\u001b[0;34m\u001b[0m\u001b[0m\n",
      "\u001b[0m\u001b[0;32m      5 \u001b[0;31m\u001b[0;34m\u001b[0m\u001b[0m\n",
      "\u001b[0m\u001b[0;32m      6 \u001b[0;31m\u001b[0mdata_files\u001b[0m \u001b[0;34m=\u001b[0m \u001b[0;34m[\u001b[0m\u001b[0;34m]\u001b[0m\u001b[0;34m\u001b[0m\u001b[0;34m\u001b[0m\u001b[0m\n",
      "\u001b[0m\n"
     ]
    },
    {
     "name": "stdin",
     "output_type": "stream",
     "text": [
      "ipdb>  c\n"
     ]
    },
    {
     "ename": "KeyError",
     "evalue": "'dtype'",
     "output_type": "error",
     "traceback": [
      "\u001b[0;31m---------------------------------------------------------------------------\u001b[0m",
      "\u001b[0;31mKeyError\u001b[0m                                  Traceback (most recent call last)",
      "\u001b[0;32m/tmp/ipykernel_15706/3294574414.py\u001b[0m in \u001b[0;36m<module>\u001b[0;34m\u001b[0m\n\u001b[1;32m      7\u001b[0m \u001b[0;32mfor\u001b[0m \u001b[0m_dir\u001b[0m \u001b[0;32min\u001b[0m \u001b[0mos\u001b[0m\u001b[0;34m.\u001b[0m\u001b[0mlistdir\u001b[0m\u001b[0;34m(\u001b[0m\u001b[0margs\u001b[0m\u001b[0;34m[\u001b[0m\u001b[0;34m'data_dir'\u001b[0m\u001b[0;34m]\u001b[0m\u001b[0;34m)\u001b[0m\u001b[0;34m:\u001b[0m\u001b[0;34m\u001b[0m\u001b[0;34m\u001b[0m\u001b[0m\n\u001b[1;32m      8\u001b[0m     \u001b[0;32mfor\u001b[0m \u001b[0mfilename\u001b[0m \u001b[0;32min\u001b[0m \u001b[0mos\u001b[0m\u001b[0;34m.\u001b[0m\u001b[0mlistdir\u001b[0m\u001b[0;34m(\u001b[0m\u001b[0mos\u001b[0m\u001b[0;34m.\u001b[0m\u001b[0mpath\u001b[0m\u001b[0;34m.\u001b[0m\u001b[0mjoin\u001b[0m\u001b[0;34m(\u001b[0m\u001b[0margs\u001b[0m\u001b[0;34m[\u001b[0m\u001b[0;34m'data_dir'\u001b[0m\u001b[0;34m]\u001b[0m\u001b[0;34m,\u001b[0m \u001b[0m_dir\u001b[0m\u001b[0;34m)\u001b[0m\u001b[0;34m)\u001b[0m\u001b[0;34m:\u001b[0m\u001b[0;34m\u001b[0m\u001b[0;34m\u001b[0m\u001b[0m\n\u001b[0;32m----> 9\u001b[0;31m         \u001b[0;32mif\u001b[0m \u001b[0margs\u001b[0m\u001b[0;34m[\u001b[0m\u001b[0;34m'dtype'\u001b[0m\u001b[0;34m]\u001b[0m \u001b[0;34m==\u001b[0m \u001b[0;34m'rda'\u001b[0m\u001b[0;34m:\u001b[0m \u001b[0;31m# scan for .rdata/.rda\u001b[0m\u001b[0;34m\u001b[0m\u001b[0;34m\u001b[0m\u001b[0m\n\u001b[0m\u001b[1;32m     10\u001b[0m             \u001b[0;32mif\u001b[0m \u001b[0mfilename\u001b[0m\u001b[0;34m.\u001b[0m\u001b[0mendswith\u001b[0m\u001b[0;34m(\u001b[0m\u001b[0;34m\".rda\"\u001b[0m\u001b[0;34m)\u001b[0m \u001b[0;32mor\u001b[0m \u001b[0mfilename\u001b[0m\u001b[0;34m.\u001b[0m\u001b[0mendswith\u001b[0m\u001b[0;34m(\u001b[0m\u001b[0;34m\".rdata\"\u001b[0m\u001b[0;34m)\u001b[0m\u001b[0;34m:\u001b[0m\u001b[0;34m\u001b[0m\u001b[0;34m\u001b[0m\u001b[0m\n\u001b[1;32m     11\u001b[0m                 \u001b[0mdata_files\u001b[0m\u001b[0;34m.\u001b[0m\u001b[0mappend\u001b[0m\u001b[0;34m(\u001b[0m\u001b[0mos\u001b[0m\u001b[0;34m.\u001b[0m\u001b[0mpath\u001b[0m\u001b[0;34m.\u001b[0m\u001b[0mjoin\u001b[0m\u001b[0;34m(\u001b[0m\u001b[0margs\u001b[0m\u001b[0;34m[\u001b[0m\u001b[0;34m'data_dir'\u001b[0m\u001b[0;34m]\u001b[0m\u001b[0;34m,\u001b[0m \u001b[0m_dir\u001b[0m\u001b[0;34m,\u001b[0m \u001b[0mfilename\u001b[0m\u001b[0;34m)\u001b[0m\u001b[0;34m)\u001b[0m\u001b[0;34m\u001b[0m\u001b[0;34m\u001b[0m\u001b[0m\n",
      "\u001b[0;31mKeyError\u001b[0m: 'dtype'"
     ]
    }
   ],
   "source": [
    "with open('./config_echoes.yaml', 'r') as f:\n",
    "    args = yaml.safe_load(f)\n",
    "\n",
    "data_files = []\n",
    "for _dir in os.listdir(args['data_dir']):\n",
    "    for filename in os.listdir(os.path.join(args['data_dir'], _dir)):\n",
    "        if args['format'] == 'rda': # scan for .rdata/.rda\n",
    "            if filename.endswith(\".rda\") or filename.endswith(\".rdata\"): \n",
    "                data_files.append(os.path.join(args['data_dir'], _dir, filename))\n",
    "            else:\n",
    "                continue\n",
    "        elif args['format'] == 'xls': # scan for .xls/.xlsx\n",
    "            if filename.endswith(\".xls\") or filename.endswith(\".xlsx\"): \n",
    "                 data_files.append(os.path.join(args['data_dir'], _dir, filename))\n",
    "            else:\n",
    "                continue\n",
    "        else:\n",
    "            print('Unsupported file format selcted')\n",
    "\n",
    "print(data_files)\n",
    "print(len(data_files))"
   ]
  },
  {
   "cell_type": "markdown",
   "id": "69958e95-197b-41e1-9c7f-8f55e4506a49",
   "metadata": {},
   "source": [
    "# Sanity checks and iterate over individual sheet"
   ]
  },
  {
   "cell_type": "code",
   "execution_count": null,
   "id": "702ff361-7755-46be-8210-571c35417713",
   "metadata": {},
   "outputs": [],
   "source": [
    "import subprocess\n",
    "\n",
    "if 0:\n",
    "    for _xls in data_files:\n",
    "        xls = pd.ExcelFile(_xls)\n",
    "        if len(xls.sheet_names) > 1:\n",
    "            print(f'{_xls}: Multiple ({len(xls.sheet_names)}) sheets present')\n",
    "        else:\n",
    "            print(f'{_xls}: Single sheet present')\n",
    "\n",
    "for _file in data_files:\n",
    "    try:\n",
    "        sheet = pd.read_excel(_file, sheet_name=0) #sheet = xls.parse(0) # Access the first sheet the other are codes and questionaire interpretations\n",
    "    except Exception as e:\n",
    "        print('Exception caught in xls')\n",
    "\n",
    "        _csv = '.'.join(_file.split('.')[:-1])+'.csv'\n",
    "        if os.path.exists(_csv+'.0'):\n",
    "            print('File exists: Skip xls to csv conversion')\n",
    "        else:\n",
    "            #pdb.set_trace()\n",
    "            # Try converting xls to csv through CLI\n",
    "            cmd = ['ssconvert', '-S', _file, _csv]\n",
    "            proc = subprocess.Popen(cmd, stdout=subprocess.PIPE, stderr=subprocess.PIPE)\n",
    "\n",
    "            o, e = proc.communicate()\n",
    "\n",
    "            #print('Output: ' + o.decode('ascii'))\n",
    "            #print('Error: '  + e.decode('ascii'))\n",
    "            #print('code: ' + str(proc.returncode))\n",
    "            #print(_csv)\n",
    "            #pdb.set_trace()\n",
    "        sheet = pd.read_csv(_csv+'.0')\n",
    "\n",
    "    print(_file)\n",
    "    print(type(sheet))\n",
    "    print(sheet.shape)\n",
    "\n",
    "    # Print out all the identifiers\n",
    "    #print(sheet.iloc[0, :])\n",
    "    if 0:\n",
    "        for col in sheet.columns:\n",
    "            print(col)\n",
    "    \n",
    "    idx = np.argwhere(pd.isnull(sheet).to_numpy()) #2D indices\n",
    "    print(idx)\n",
    "    pdb.set_trace()\n",
    "\n",
    "    sheet.dropna(axis=0, how='any', thresh=None, subset=None, inplace=True)\n",
    "    print(sheet.shape)"
   ]
  },
  {
   "cell_type": "code",
   "execution_count": null,
   "id": "fbf00630-9303-4682-9ce0-96497f05a459",
   "metadata": {},
   "outputs": [],
   "source": []
  }
 ],
 "metadata": {
  "kernelspec": {
   "display_name": "Python 3 (ipykernel)",
   "language": "python",
   "name": "python3"
  },
  "language_info": {
   "codemirror_mode": {
    "name": "ipython",
    "version": 3
   },
   "file_extension": ".py",
   "mimetype": "text/x-python",
   "name": "python",
   "nbconvert_exporter": "python",
   "pygments_lexer": "ipython3",
   "version": "3.7.11"
  }
 },
 "nbformat": 4,
 "nbformat_minor": 5
}

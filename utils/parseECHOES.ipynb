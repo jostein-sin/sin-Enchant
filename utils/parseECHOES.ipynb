{
 "cells": [
  {
   "cell_type": "code",
   "execution_count": 1,
   "id": "c1a2b388-3fc1-4584-90a8-e51b018621fd",
   "metadata": {},
   "outputs": [],
   "source": [
    "import pandas as pd\n",
    "import os\n",
    "import yaml\n",
    "import pyreadr\n",
    "import numpy as np\n",
    "import pdb"
   ]
  },
  {
   "cell_type": "markdown",
   "id": "352d4fc5-8110-458c-a44d-e7381f861982",
   "metadata": {},
   "source": [
    "# Pickup all excel sheets"
   ]
  },
  {
   "cell_type": "code",
   "execution_count": 2,
   "id": "5d0e2be2-1e4b-4055-a3a1-b5dbfedaf33a",
   "metadata": {},
   "outputs": [
    {
     "name": "stdout",
     "output_type": "stream",
     "text": [
      "['/media/windowsC/SIN_Desktop/ENCHANT/ECHOES/data/Energy company survey/ECHOES_raw_data_survey_energy_provider.xls', '/media/windowsC/SIN_Desktop/ENCHANT/ECHOES/data/International survey/ECHOES_Main_survey_codebook.xlsx', '/media/windowsC/SIN_Desktop/ENCHANT/ECHOES/data/International survey/ECHOES_raw_data_int_survey.xlsx', '/media/windowsC/SIN_Desktop/ENCHANT/ECHOES/data/Psychological experiment Spain/ECHOES_raw_data_psych_experiment_Spain.xlsx', '/media/windowsC/SIN_Desktop/ENCHANT/ECHOES/data/Standardized psychological experiments/ECHOES_raw_data_psych_experiments_Germany 1.xlsx', '/media/windowsC/SIN_Desktop/ENCHANT/ECHOES/data/Standardized psychological experiments/ECHOES_raw_data_psych_experiments_Bulgaria.xlsx', '/media/windowsC/SIN_Desktop/ENCHANT/ECHOES/data/Standardized psychological experiments/ECHOES_raw_data_psych_experiments_Finland.xlsx', '/media/windowsC/SIN_Desktop/ENCHANT/ECHOES/data/Standardized psychological experiments/ECHOES_raw_data_psych_experiments_Germany 2.xlsx', '/media/windowsC/SIN_Desktop/ENCHANT/ECHOES/data/Standardized psychological experiments/ECHOES_raw_data_psych_experiments_Italy.xlsx', '/media/windowsC/SIN_Desktop/ENCHANT/ECHOES/data/Standardized psychological experiments/ECHOES_raw_data_psych_experiments_Norway.xlsx', '/media/windowsC/SIN_Desktop/ENCHANT/ECHOES/data/Standardized psychological experiments/ECHOES_raw_data_psych_experiments_Turkey.xlsx', '/media/windowsC/SIN_Desktop/ENCHANT/ECHOES/data/Standardized psychological experiments/WP4 experiments_variable codes_labels.xlsx']\n",
      "12\n"
     ]
    }
   ],
   "source": [
    "with open('./config_echoes.yaml', 'r') as f:\n",
    "    args = yaml.safe_load(f)\n",
    "\n",
    "data_files = []\n",
    "for _dir in os.listdir(args['data_dir']):\n",
    "    for filename in os.listdir(os.path.join(args['data_dir'], _dir)):\n",
    "        if args['format'] == 'rda': # scan for .rdata/.rda\n",
    "            if filename.endswith(\".rda\") or filename.endswith(\".rdata\"): \n",
    "                data_files.append(os.path.join(args['data_dir'], _dir, filename))\n",
    "            else:\n",
    "                continue\n",
    "        elif args['format'] == 'xls': # scan for .xls/.xlsx\n",
    "            if filename.endswith(\".xls\") or filename.endswith(\".xlsx\"): \n",
    "                 data_files.append(os.path.join(args['data_dir'], _dir, filename))\n",
    "            else:\n",
    "                continue\n",
    "        else:\n",
    "            print('Unsupported file format selcted')\n",
    "\n",
    "print(data_files)\n",
    "print(len(data_files))"
   ]
  },
  {
   "cell_type": "markdown",
   "id": "69958e95-197b-41e1-9c7f-8f55e4506a49",
   "metadata": {},
   "source": [
    "# Sanity checks and iterate over individual sheet"
   ]
  },
  {
   "cell_type": "code",
   "execution_count": 3,
   "id": "5904740a-a10f-4442-8c1b-d585c09e15ef",
   "metadata": {},
   "outputs": [
    {
     "name": "stdout",
     "output_type": "stream",
     "text": [
      "Exception caught in xls\n",
      "File exists: Skip xls to csv conversion\n"
     ]
    },
    {
     "name": "stderr",
     "output_type": "stream",
     "text": [
      "/home/kalyan/anaconda3/envs/deepl/lib/python3.7/site-packages/ipykernel_launcher.py:33: DtypeWarning: Columns (7,8) have mixed types.Specify dtype option on import or set low_memory=False.\n"
     ]
    },
    {
     "name": "stdout",
     "output_type": "stream",
     "text": [
      "Exception caught in xls\n",
      "File exists: Skip xls to csv conversion\n",
      "Exception caught in xls\n",
      "File exists: Skip xls to csv conversion\n",
      "Exception caught in xls\n",
      "File exists: Skip xls to csv conversion\n",
      "Exception caught in xls\n",
      "File exists: Skip xls to csv conversion\n",
      "Exception caught in xls\n",
      "File exists: Skip xls to csv conversion\n",
      "Exception caught in xls\n",
      "File exists: Skip xls to csv conversion\n",
      "Exception caught in xls\n",
      "File exists: Skip xls to csv conversion\n"
     ]
    }
   ],
   "source": [
    "import subprocess\n",
    "\n",
    "def get_survey_df_list(_data_files, \n",
    "                       remove_files_with_phrases=['codebook', 'codes_labels']):\n",
    "    survey_df_dict = {}\n",
    "    data_files = [_file for _file in _data_files if not any(phrase in _file for phrase in remove_files_with_phrases)]\n",
    "        \n",
    "    for _file in data_files:\n",
    "        try:\n",
    "            sheet = pd.read_excel(_file, sheet_name=0) # Access the first sheet the other are codes and questionaire interpretations\n",
    "        except Exception as e:\n",
    "            print('Exception caught in xls')\n",
    "\n",
    "            _csv = '.'.join(_file.split('.')[:-1])+'.csv'\n",
    "            if os.path.exists(_csv+'.0'):\n",
    "                print('File exists: Skip xls to csv conversion')\n",
    "            else:\n",
    "                #pdb.set_trace()\n",
    "                # Try converting xls to csv through CLI\n",
    "                cmd = ['ssconvert', '-S', _file, _csv]\n",
    "                proc = subprocess.Popen(cmd, stdout=subprocess.PIPE, stderr=subprocess.PIPE)\n",
    "\n",
    "                o, e = proc.communicate()\n",
    "\n",
    "            sheet = pd.read_csv(_csv+'.0')\n",
    "        \n",
    "        name = _file.replace(\" \", \"_\").split('/')[-1]\n",
    "        survey_df_dict[name] = sheet\n",
    "        sheet = None\n",
    "\n",
    "    return survey_df_dict\n",
    "\n",
    "survey_df_dict = get_survey_df_list(data_files)"
   ]
  },
  {
   "cell_type": "code",
   "execution_count": 4,
   "id": "6f5e124f-b939-4b42-a36e-fd929274820b",
   "metadata": {
    "tags": []
   },
   "outputs": [
    {
     "name": "stdout",
     "output_type": "stream",
     "text": [
      "ECHOES_raw_data_survey_energy_provider.xls: (181, 94)\n",
      "ECHOES_raw_data_int_survey.xlsx: (18037, 424)\n",
      "ECHOES_raw_data_psych_experiment_Spain.xlsx: (302, 52)\n",
      "ECHOES_raw_data_psych_experiments_Germany_1.xlsx: (200, 111)\n",
      "ECHOES_raw_data_psych_experiments_Bulgaria.xlsx: (157, 91)\n",
      "ECHOES_raw_data_psych_experiments_Finland.xlsx: (196, 76)\n",
      "ECHOES_raw_data_psych_experiments_Germany_2.xlsx: (208, 132)\n",
      "ECHOES_raw_data_psych_experiments_Italy.xlsx: (178, 169)\n",
      "ECHOES_raw_data_psych_experiments_Norway.xlsx: (250, 74)\n",
      "ECHOES_raw_data_psych_experiments_Turkey.xlsx: (211, 107)\n"
     ]
    }
   ],
   "source": [
    "for name, survey_df in survey_df_dict.items():\n",
    "    print(f\"{name}: {survey_df.shape}\")"
   ]
  },
  {
   "cell_type": "code",
   "execution_count": 5,
   "id": "473a1eff-de53-4895-b702-aed97b8bf88d",
   "metadata": {},
   "outputs": [],
   "source": [
    "import inspect\n",
    "\n",
    "class ConditionalSurvey(object):\n",
    "    \n",
    "    def get_nan_idices(self, sheet):\n",
    "        '''\n",
    "        '''\n",
    "        idx = np.argwhere(pd.isnull(sheet).to_numpy()) #2D indices\n",
    "        #print(idx)\n",
    "        return idx\n",
    "    \n",
    "    \n",
    "    def no_nan(self, _sheet):\n",
    "        '''\n",
    "        '''\n",
    "        sheet = _sheet.dropna(axis=0, how='any', thresh=None, subset=None, inplace=False)\n",
    "        #print(sheet.shape)\n",
    "        return sheet\n",
    "\n",
    "    def substitute_nan(self, _sheet):\n",
    "        '''\n",
    "        '''\n",
    "        sheet = _sheet.fillna(0.0)\n",
    "        #print(sheet.shape)\n",
    "        return sheet\n",
    "    \n",
    "    \n",
    "def get_methods(class_arg):\n",
    "\n",
    "    assert inspect.isclass(class_arg), 'Expecting a class as an argument'\n",
    "    \n",
    "    method_list = []\n",
    "    # attribute is a string representing the attribute name\n",
    "    for attribute in dir(class_arg):\n",
    "        # Get the attribute value\n",
    "        attribute_value = getattr(class_arg, attribute)\n",
    "        # Check that it is callable\n",
    "        if callable(attribute_value):\n",
    "            # Filter all dunder (__ prefix) methods\n",
    "            if attribute.startswith('__') == False:\n",
    "                method_list.append(attribute)\n",
    "\n",
    "    return method_list"
   ]
  },
  {
   "cell_type": "code",
   "execution_count": 6,
   "id": "702ff361-7755-46be-8210-571c35417713",
   "metadata": {},
   "outputs": [
    {
     "name": "stdout",
     "output_type": "stream",
     "text": [
      "['get_nan_idices', 'no_nan', 'substitute_nan']\n"
     ]
    }
   ],
   "source": [
    "inst = ConditionalSurvey()\n",
    "methods_list = get_methods(ConditionalSurvey)\n",
    "print(methods_list)"
   ]
  },
  {
   "cell_type": "code",
   "execution_count": 7,
   "id": "fbf00630-9303-4682-9ce0-96497f05a459",
   "metadata": {},
   "outputs": [
    {
     "name": "stdout",
     "output_type": "stream",
     "text": [
      "{'format': 'xls', 'data_dir': '/media/windowsC/SIN_Desktop/ENCHANT/ECHOES/data', 'surveys': {'survey_energy_provider': {'histogram': {'enable': True, 'ROWS': 10, 'COLS': 10, 'SIZE': ['8*8', '6*8']}, 'conditional': 'substitute_nan'}, 'int_survey': {'histogram': {'enable': True, 'ROWS': 23, 'COLS': 19, 'SIZE': ['8*10', '6*10']}, 'conditional': 'substitute_nan'}, 'psych_experiment_Spain': {'histogram': {'enable': True, 'ROWS': 5, 'COLS': 11, 'SIZE': ['8*8', '6*8']}, 'conditional': 'substitute_nan'}, 'psych_experiments_Germany_1': {'histogram': {'enable': True, 'ROWS': 11, 'COLS': 11, 'SIZE': ['8*8', '6*8']}, 'conditional': 'substitute_nan'}, 'psych_experiments_Germany_2': {'histogram': {'enable': True, 'ROWS': 11, 'COLS': 12, 'SIZE': ['8*8', '6*8']}, 'conditional': 'substitute_nan'}, 'psych_experiments_Bulgaria': {'histogram': {'enable': True, 'ROWS': 10, 'COLS': 10, 'SIZE': ['8*8', '6*8']}, 'conditional': 'substitute_nan'}, 'psych_experiments_Finland': {'histogram': {'enable': True, 'ROWS': 8, 'COLS': 10, 'SIZE': ['8*8', '6*8']}, 'conditional': 'substitute_nan'}, 'psych_experiments_Italy': {'histogram': {'enable': True, 'ROWS': 13, 'COLS': 13, 'SIZE': ['8*8', '6*8']}, 'conditional': 'substitute_nan'}, 'psych_experiments_Norway': {'histogram': {'enable': True, 'ROWS': 8, 'COLS': 10, 'SIZE': ['8*8', '6*8']}, 'conditional': 'substitute_nan'}, 'psych_experiments_Turkey': {'histogram': {'enable': True, 'ROWS': 11, 'COLS': 10, 'SIZE': ['8*8', '6*8']}, 'conditional': 'substitute_nan'}}}\n"
     ]
    }
   ],
   "source": [
    "print(args)"
   ]
  },
  {
   "cell_type": "code",
   "execution_count": 10,
   "id": "4a889773-6ad3-43fe-ae99-586902b6889b",
   "metadata": {},
   "outputs": [
    {
     "name": "stdout",
     "output_type": "stream",
     "text": [
      "survey_energy_provider: <function ConditionalSurvey.substitute_nan at 0x7fcda4e46560>\n",
      "before:(181, 94), after:(181, 94)\n",
      "int_survey: <function ConditionalSurvey.substitute_nan at 0x7fcda4e46560>\n",
      "before:(18037, 424), after:(18037, 424)\n",
      "psych_experiment_Spain: <function ConditionalSurvey.substitute_nan at 0x7fcda4e46560>\n",
      "before:(302, 52), after:(302, 52)\n",
      "psych_experiments_Germany_1: <function ConditionalSurvey.substitute_nan at 0x7fcda4e46560>\n",
      "before:(200, 111), after:(200, 111)\n",
      "psych_experiments_Germany_2: <function ConditionalSurvey.substitute_nan at 0x7fcda4e46560>\n",
      "before:(208, 132), after:(208, 132)\n"
     ]
    },
    {
     "name": "stderr",
     "output_type": "stream",
     "text": [
      "/home/kalyan/anaconda3/envs/deepl/lib/python3.7/site-packages/ipykernel_launcher.py:52: UserWarning: Tight layout not applied. tight_layout cannot make axes width small enough to accommodate all axes decorations\n"
     ]
    },
    {
     "name": "stdout",
     "output_type": "stream",
     "text": [
      "psych_experiments_Bulgaria: <function ConditionalSurvey.substitute_nan at 0x7fcda4e46560>\n",
      "before:(157, 91), after:(157, 91)\n",
      "psych_experiments_Finland: <function ConditionalSurvey.substitute_nan at 0x7fcda4e46560>\n",
      "before:(196, 76), after:(196, 76)\n",
      "psych_experiments_Italy: <function ConditionalSurvey.substitute_nan at 0x7fcda4e46560>\n",
      "before:(178, 169), after:(178, 169)\n",
      "psych_experiments_Norway: <function ConditionalSurvey.substitute_nan at 0x7fcda4e46560>\n",
      "before:(250, 74), after:(250, 74)\n",
      "psych_experiments_Turkey: <function ConditionalSurvey.substitute_nan at 0x7fcda4e46560>\n",
      "before:(211, 107), after:(211, 107)\n"
     ]
    }
   ],
   "source": [
    "import matplotlib.pyplot as plt\n",
    "def build_histogram(parsed_df,\n",
    "                    settings,\n",
    "                   survey_name,\n",
    "                   ignore_label=0):\n",
    "    #df = pd.DataFrame({'species': ['bear', 'bear', 'marsupial'], 'population': [1864, 22000, 80000]}, index=['panda', 'polar', 'koala'])\n",
    "    parsed_df = parsed_df.iloc[settings.get(\"n_discard_columns\", 1):, :]\n",
    "    ignore_labels = settings.get(\"ignore_labels\", [ignore_label])\n",
    "    \n",
    "    ROWS, COLS, SIZE = settings.get(\"ROWS\", 0), settings.get(\"COLS\", 0), settings.get(\"SIZE\", (['8*8', '6*8']))\n",
    "    assert not (ROWS == 0 and COLS == 0), f'{survey_name} Error: ROWS/COL value not specified in config.yaml'\n",
    "    \n",
    "    SIZE = list(map(lambda x: eval(x), SIZE))\n",
    "    fig, axes = plt.subplots(figsize=SIZE, dpi=300, nrows=ROWS, ncols=COLS)\n",
    "    idx = 0\n",
    "    for name, col in parsed_df.items():\n",
    "        #assert all(col.map(type) == int) or all(col.map(type) == float)\n",
    "        sr_count = col.value_counts()\n",
    "        _ignore_labels = [label for label in ignore_labels if label in sr_count.keys()]\n",
    "        if len(_ignore_labels) > 0:\n",
    "            sr_count.drop(labels=_ignore_labels, inplace=True)\n",
    "            #pdb.set_trace()\n",
    "        \n",
    "        if sr_count.sum() > 0:  #Display opitions with responses\n",
    "            i, j = idx // COLS, idx % COLS\n",
    "            idx += 1\n",
    "            if i>= ROWS or j>= COLS:\n",
    "                pdb.set_trace()\n",
    "\n",
    "            #print(sr_count.keys().dtype, sr_count.values.dtype)\n",
    "            ax = axes[i, j]\n",
    "            FIRST_TIME = True\n",
    "            while FIRST_TIME:\n",
    "                try:\n",
    "                    ax.bar(sr_count.keys(), sr_count.values, align='center', color='#607c8e')\n",
    "                    ax.plot(sr_count.keys(), sr_count.values, marker=\"o\", linestyle=\"\", alpha=0.8, color=\"b\")\n",
    "                    FIRST_TIME = False\n",
    "                except TypeError:\n",
    "                    if FIRST_TIME:\n",
    "                        sr_count.index = list(map(str, list(sr_count.keys())))\n",
    "                        FIRST_TIME = False\n",
    "                    else:\n",
    "                        pdb.set_trace()\n",
    "            ax.set_title(f'{name}', fontsize=7, fontweight='bold', color='blue')\n",
    "\n",
    "            ax.xaxis.set_tick_params(labelsize=5, labelcolor='r')\n",
    "            ax.set_xlabel(f'response[{sr_count.sum()}]', fontsize=5, fontweight='bold')\n",
    "            ax.yaxis.set_tick_params(labelsize=5, labelcolor='r')\n",
    "            ax.set_ylabel('count', fontsize=5, fontweight='bold')\n",
    "            ax.grid(axis='y', alpha=0.75)\n",
    "    \n",
    "    fig.tight_layout(pad=3.0)\n",
    "    plt.savefig(f'{survey_name}.png', bbox_inches='tight')\n",
    "    plt.close()\n",
    "    \n",
    "for key, val in args['surveys'].items():\n",
    "    assert val['conditional'] in methods_list, 'Error: Improper conditional parsing method in config.yaml'\n",
    "    conditional_parser = getattr(ConditionalSurvey, val['conditional'])\n",
    "    print(f\"{key}: {conditional_parser}\")\n",
    "    \n",
    "    matching_df = [(file_name, survey_df) for file_name, survey_df in survey_df_dict.items() if key in file_name]\n",
    "    assert len(matching_df) > 0, 'Error: Improper survey name in config.yaml'\n",
    "    parsed_df = conditional_parser(inst, matching_df[0][1])\n",
    "    print(f\"before:{matching_df[0][1].shape}, after:{parsed_df.shape}\")\n",
    "    \n",
    "    # Build a histogram of each column in df\n",
    "    if val['histogram']['enable']:\n",
    "        build_histogram(parsed_df, val['histogram'], f\"{key}_{val['conditional']}\")"
   ]
  },
  {
   "cell_type": "code",
   "execution_count": null,
   "id": "5f80b24c-21dd-4d21-81c5-f30ceb38da75",
   "metadata": {},
   "outputs": [],
   "source": []
  }
 ],
 "metadata": {
  "kernelspec": {
   "display_name": "Python 3 (ipykernel)",
   "language": "python",
   "name": "python3"
  },
  "language_info": {
   "codemirror_mode": {
    "name": "ipython",
    "version": 3
   },
   "file_extension": ".py",
   "mimetype": "text/x-python",
   "name": "python",
   "nbconvert_exporter": "python",
   "pygments_lexer": "ipython3",
   "version": "3.7.11"
  }
 },
 "nbformat": 4,
 "nbformat_minor": 5
}
